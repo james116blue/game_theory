{
 "cells": [
  {
   "cell_type": "markdown",
   "id": "3962262b",
   "metadata": {},
   "source": [
    "ЗАДАЧА КЛАССИФИКАЦИИ"
   ]
  },
  {
   "cell_type": "code",
   "execution_count": 1,
   "id": "8f09cb05",
   "metadata": {},
   "outputs": [],
   "source": [
    "import numpy as np\n",
    "import pandas as pd\n",
    "import matplotlib.pyplot as plt"
   ]
  },
  {
   "cell_type": "code",
   "execution_count": 2,
   "id": "b807a2f8",
   "metadata": {},
   "outputs": [],
   "source": [
    "train_df = pd.read_csv('titanik/train.csv', index_col='PassengerId')\n",
    "test_df = pd.read_csv('titanik/test.csv', index_col='PassengerId')\n",
    "# combine = [train_df, test_df]"
   ]
  },
  {
   "cell_type": "code",
   "execution_count": 3,
   "id": "ad957876",
   "metadata": {},
   "outputs": [
    {
     "name": "stdout",
     "output_type": "stream",
     "text": [
      "['Survived' 'Pclass' 'Name' 'Sex' 'Age' 'SibSp' 'Parch' 'Ticket' 'Fare'\n",
      " 'Cabin' 'Embarked']\n"
     ]
    }
   ],
   "source": [
    "#Атрибуты таблицы\n",
    "print(train_df.columns.values)"
   ]
  },
  {
   "cell_type": "code",
   "execution_count": 4,
   "id": "d6d1c30e",
   "metadata": {},
   "outputs": [
    {
     "data": {
      "text/html": [
       "<div>\n",
       "<style scoped>\n",
       "    .dataframe tbody tr th:only-of-type {\n",
       "        vertical-align: middle;\n",
       "    }\n",
       "\n",
       "    .dataframe tbody tr th {\n",
       "        vertical-align: top;\n",
       "    }\n",
       "\n",
       "    .dataframe thead th {\n",
       "        text-align: right;\n",
       "    }\n",
       "</style>\n",
       "<table border=\"1\" class=\"dataframe\">\n",
       "  <thead>\n",
       "    <tr style=\"text-align: right;\">\n",
       "      <th></th>\n",
       "      <th>Survived</th>\n",
       "      <th>Pclass</th>\n",
       "      <th>Name</th>\n",
       "      <th>Sex</th>\n",
       "      <th>Age</th>\n",
       "      <th>SibSp</th>\n",
       "      <th>Parch</th>\n",
       "      <th>Ticket</th>\n",
       "      <th>Fare</th>\n",
       "      <th>Cabin</th>\n",
       "      <th>Embarked</th>\n",
       "    </tr>\n",
       "    <tr>\n",
       "      <th>PassengerId</th>\n",
       "      <th></th>\n",
       "      <th></th>\n",
       "      <th></th>\n",
       "      <th></th>\n",
       "      <th></th>\n",
       "      <th></th>\n",
       "      <th></th>\n",
       "      <th></th>\n",
       "      <th></th>\n",
       "      <th></th>\n",
       "      <th></th>\n",
       "    </tr>\n",
       "  </thead>\n",
       "  <tbody>\n",
       "    <tr>\n",
       "      <th>1</th>\n",
       "      <td>0</td>\n",
       "      <td>3</td>\n",
       "      <td>Braund, Mr. Owen Harris</td>\n",
       "      <td>male</td>\n",
       "      <td>22.0</td>\n",
       "      <td>1</td>\n",
       "      <td>0</td>\n",
       "      <td>A/5 21171</td>\n",
       "      <td>7.2500</td>\n",
       "      <td>NaN</td>\n",
       "      <td>S</td>\n",
       "    </tr>\n",
       "    <tr>\n",
       "      <th>2</th>\n",
       "      <td>1</td>\n",
       "      <td>1</td>\n",
       "      <td>Cumings, Mrs. John Bradley (Florence Briggs Th...</td>\n",
       "      <td>female</td>\n",
       "      <td>38.0</td>\n",
       "      <td>1</td>\n",
       "      <td>0</td>\n",
       "      <td>PC 17599</td>\n",
       "      <td>71.2833</td>\n",
       "      <td>C85</td>\n",
       "      <td>C</td>\n",
       "    </tr>\n",
       "    <tr>\n",
       "      <th>3</th>\n",
       "      <td>1</td>\n",
       "      <td>3</td>\n",
       "      <td>Heikkinen, Miss. Laina</td>\n",
       "      <td>female</td>\n",
       "      <td>26.0</td>\n",
       "      <td>0</td>\n",
       "      <td>0</td>\n",
       "      <td>STON/O2. 3101282</td>\n",
       "      <td>7.9250</td>\n",
       "      <td>NaN</td>\n",
       "      <td>S</td>\n",
       "    </tr>\n",
       "    <tr>\n",
       "      <th>4</th>\n",
       "      <td>1</td>\n",
       "      <td>1</td>\n",
       "      <td>Futrelle, Mrs. Jacques Heath (Lily May Peel)</td>\n",
       "      <td>female</td>\n",
       "      <td>35.0</td>\n",
       "      <td>1</td>\n",
       "      <td>0</td>\n",
       "      <td>113803</td>\n",
       "      <td>53.1000</td>\n",
       "      <td>C123</td>\n",
       "      <td>S</td>\n",
       "    </tr>\n",
       "    <tr>\n",
       "      <th>5</th>\n",
       "      <td>0</td>\n",
       "      <td>3</td>\n",
       "      <td>Allen, Mr. William Henry</td>\n",
       "      <td>male</td>\n",
       "      <td>35.0</td>\n",
       "      <td>0</td>\n",
       "      <td>0</td>\n",
       "      <td>373450</td>\n",
       "      <td>8.0500</td>\n",
       "      <td>NaN</td>\n",
       "      <td>S</td>\n",
       "    </tr>\n",
       "  </tbody>\n",
       "</table>\n",
       "</div>"
      ],
      "text/plain": [
       "             Survived  Pclass  \\\n",
       "PassengerId                     \n",
       "1                   0       3   \n",
       "2                   1       1   \n",
       "3                   1       3   \n",
       "4                   1       1   \n",
       "5                   0       3   \n",
       "\n",
       "                                                          Name     Sex   Age  \\\n",
       "PassengerId                                                                    \n",
       "1                                      Braund, Mr. Owen Harris    male  22.0   \n",
       "2            Cumings, Mrs. John Bradley (Florence Briggs Th...  female  38.0   \n",
       "3                                       Heikkinen, Miss. Laina  female  26.0   \n",
       "4                 Futrelle, Mrs. Jacques Heath (Lily May Peel)  female  35.0   \n",
       "5                                     Allen, Mr. William Henry    male  35.0   \n",
       "\n",
       "             SibSp  Parch            Ticket     Fare Cabin Embarked  \n",
       "PassengerId                                                          \n",
       "1                1      0         A/5 21171   7.2500   NaN        S  \n",
       "2                1      0          PC 17599  71.2833   C85        C  \n",
       "3                0      0  STON/O2. 3101282   7.9250   NaN        S  \n",
       "4                1      0            113803  53.1000  C123        S  \n",
       "5                0      0            373450   8.0500   NaN        S  "
      ]
     },
     "execution_count": 4,
     "metadata": {},
     "output_type": "execute_result"
    }
   ],
   "source": [
    "#Пример данных\n",
    "train_df.head(5)"
   ]
  },
  {
   "cell_type": "code",
   "execution_count": 5,
   "id": "1ffe1784",
   "metadata": {},
   "outputs": [
    {
     "data": {
      "text/html": [
       "<div>\n",
       "<style scoped>\n",
       "    .dataframe tbody tr th:only-of-type {\n",
       "        vertical-align: middle;\n",
       "    }\n",
       "\n",
       "    .dataframe tbody tr th {\n",
       "        vertical-align: top;\n",
       "    }\n",
       "\n",
       "    .dataframe thead th {\n",
       "        text-align: right;\n",
       "    }\n",
       "</style>\n",
       "<table border=\"1\" class=\"dataframe\">\n",
       "  <thead>\n",
       "    <tr style=\"text-align: right;\">\n",
       "      <th></th>\n",
       "      <th>Survived</th>\n",
       "      <th>Pclass</th>\n",
       "      <th>Sex</th>\n",
       "      <th>Age</th>\n",
       "    </tr>\n",
       "    <tr>\n",
       "      <th>PassengerId</th>\n",
       "      <th></th>\n",
       "      <th></th>\n",
       "      <th></th>\n",
       "      <th></th>\n",
       "    </tr>\n",
       "  </thead>\n",
       "  <tbody>\n",
       "    <tr>\n",
       "      <th>1</th>\n",
       "      <td>0</td>\n",
       "      <td>3</td>\n",
       "      <td>male</td>\n",
       "      <td>22.0</td>\n",
       "    </tr>\n",
       "    <tr>\n",
       "      <th>2</th>\n",
       "      <td>1</td>\n",
       "      <td>1</td>\n",
       "      <td>female</td>\n",
       "      <td>38.0</td>\n",
       "    </tr>\n",
       "    <tr>\n",
       "      <th>3</th>\n",
       "      <td>1</td>\n",
       "      <td>3</td>\n",
       "      <td>female</td>\n",
       "      <td>26.0</td>\n",
       "    </tr>\n",
       "    <tr>\n",
       "      <th>4</th>\n",
       "      <td>1</td>\n",
       "      <td>1</td>\n",
       "      <td>female</td>\n",
       "      <td>35.0</td>\n",
       "    </tr>\n",
       "    <tr>\n",
       "      <th>5</th>\n",
       "      <td>0</td>\n",
       "      <td>3</td>\n",
       "      <td>male</td>\n",
       "      <td>35.0</td>\n",
       "    </tr>\n",
       "  </tbody>\n",
       "</table>\n",
       "</div>"
      ],
      "text/plain": [
       "             Survived  Pclass     Sex   Age\n",
       "PassengerId                                \n",
       "1                   0       3    male  22.0\n",
       "2                   1       1  female  38.0\n",
       "3                   1       3  female  26.0\n",
       "4                   1       1  female  35.0\n",
       "5                   0       3    male  35.0"
      ]
     },
     "execution_count": 5,
     "metadata": {},
     "output_type": "execute_result"
    }
   ],
   "source": [
    "dataset = train_df[['Survived', 'Pclass', 'Sex', 'Age']]\n",
    "dataset = dataset.dropna()\n",
    "dataset.head()"
   ]
  },
  {
   "cell_type": "code",
   "execution_count": 6,
   "id": "c747144b",
   "metadata": {},
   "outputs": [
    {
     "data": {
      "text/html": [
       "<div>\n",
       "<style scoped>\n",
       "    .dataframe tbody tr th:only-of-type {\n",
       "        vertical-align: middle;\n",
       "    }\n",
       "\n",
       "    .dataframe tbody tr th {\n",
       "        vertical-align: top;\n",
       "    }\n",
       "\n",
       "    .dataframe thead th {\n",
       "        text-align: right;\n",
       "    }\n",
       "</style>\n",
       "<table border=\"1\" class=\"dataframe\">\n",
       "  <thead>\n",
       "    <tr style=\"text-align: right;\">\n",
       "      <th></th>\n",
       "      <th>Survived</th>\n",
       "      <th>Pclass</th>\n",
       "      <th>Sex</th>\n",
       "      <th>Age</th>\n",
       "      <th>Bias</th>\n",
       "    </tr>\n",
       "    <tr>\n",
       "      <th>PassengerId</th>\n",
       "      <th></th>\n",
       "      <th></th>\n",
       "      <th></th>\n",
       "      <th></th>\n",
       "      <th></th>\n",
       "    </tr>\n",
       "  </thead>\n",
       "  <tbody>\n",
       "    <tr>\n",
       "      <th>1</th>\n",
       "      <td>0</td>\n",
       "      <td>3</td>\n",
       "      <td>0</td>\n",
       "      <td>22.0</td>\n",
       "      <td>1</td>\n",
       "    </tr>\n",
       "    <tr>\n",
       "      <th>2</th>\n",
       "      <td>1</td>\n",
       "      <td>1</td>\n",
       "      <td>1</td>\n",
       "      <td>38.0</td>\n",
       "      <td>1</td>\n",
       "    </tr>\n",
       "    <tr>\n",
       "      <th>3</th>\n",
       "      <td>1</td>\n",
       "      <td>3</td>\n",
       "      <td>1</td>\n",
       "      <td>26.0</td>\n",
       "      <td>1</td>\n",
       "    </tr>\n",
       "    <tr>\n",
       "      <th>4</th>\n",
       "      <td>1</td>\n",
       "      <td>1</td>\n",
       "      <td>1</td>\n",
       "      <td>35.0</td>\n",
       "      <td>1</td>\n",
       "    </tr>\n",
       "    <tr>\n",
       "      <th>5</th>\n",
       "      <td>0</td>\n",
       "      <td>3</td>\n",
       "      <td>0</td>\n",
       "      <td>35.0</td>\n",
       "      <td>1</td>\n",
       "    </tr>\n",
       "  </tbody>\n",
       "</table>\n",
       "</div>"
      ],
      "text/plain": [
       "             Survived  Pclass  Sex   Age  Bias\n",
       "PassengerId                                   \n",
       "1                   0       3    0  22.0     1\n",
       "2                   1       1    1  38.0     1\n",
       "3                   1       3    1  26.0     1\n",
       "4                   1       1    1  35.0     1\n",
       "5                   0       3    0  35.0     1"
      ]
     },
     "execution_count": 6,
     "metadata": {},
     "output_type": "execute_result"
    }
   ],
   "source": [
    "dataset['Sex'] = dataset['Sex'].map( {'female': 1, 'male': 0} ).astype(int)\n",
    "dataset['Bias'] = 1\n",
    "dataset.head()"
   ]
  },
  {
   "cell_type": "code",
   "execution_count": 7,
   "id": "6b1de0f3",
   "metadata": {},
   "outputs": [
    {
     "data": {
      "text/plain": [
       "(array([[ 3.,  0., 22.,  1.],\n",
       "        [ 1.,  1., 38.,  1.],\n",
       "        [ 3.,  1., 26.,  1.],\n",
       "        [ 1.,  1., 35.,  1.],\n",
       "        [ 3.,  0., 35.,  1.]]),\n",
       " array([0, 1, 1, 1, 0]))"
      ]
     },
     "execution_count": 7,
     "metadata": {},
     "output_type": "execute_result"
    }
   ],
   "source": [
    "x = dataset[['Pclass','Sex','Age','Bias']].values\n",
    "y = dataset['Survived'].values\n",
    "x[:5], y[:5]"
   ]
  },
  {
   "cell_type": "markdown",
   "id": "2d1e7ed9",
   "metadata": {},
   "source": [
    "Гипотеза линейной регрессии: $z_\\theta(x) = \\theta_0x_0 + \\theta_1x_1 \\dots + \\theta_nx_n = \\theta^T(1||x)$"
   ]
  },
  {
   "cell_type": "code",
   "execution_count": 8,
   "id": "8ebe5a29",
   "metadata": {},
   "outputs": [],
   "source": [
    "def z(theta, x):\n",
    "    return x @ theta.T"
   ]
  },
  {
   "cell_type": "code",
   "execution_count": 9,
   "id": "2ea76213",
   "metadata": {},
   "outputs": [
    {
     "data": {
      "text/plain": [
       "array([2.6, 4.1, 3.1, 3.8, 3.9])"
      ]
     },
     "execution_count": 9,
     "metadata": {},
     "output_type": "execute_result"
    }
   ],
   "source": [
    "init_theta =  np.array([0.1,0.1, 0.1, 0.1])\n",
    "z(init_theta, x)[:5]"
   ]
  },
  {
   "cell_type": "markdown",
   "id": "7c55d8e3",
   "metadata": {},
   "source": [
    "Cигмоид-функция:\n",
    "$$y(x) = \\frac{1}{1 + e^{-z}}$$"
   ]
  },
  {
   "cell_type": "code",
   "execution_count": 10,
   "id": "21706ed6",
   "metadata": {},
   "outputs": [],
   "source": [
    "def sigmoid(z):\n",
    "    return 1. / (1 + np.exp(-z))"
   ]
  },
  {
   "cell_type": "code",
   "execution_count": 11,
   "id": "aec18abf",
   "metadata": {},
   "outputs": [
    {
     "data": {
      "image/png": "[encoded data removed]",
      "text/plain": [
       "<Figure size 432x288 with 1 Axes>"
      ]
     },
     "metadata": {
      "needs_background": "light"
     },
     "output_type": "display_data"
    }
   ],
   "source": [
    "x_axis = np.linspace(-10,10, 10**4)\n",
    "y_axis = sigmoid(x_axis)\n",
    "plt.plot(x_axis, y_axis)\n",
    "plt.title(\"график сигмоид функции\")\n",
    "plt.show()"
   ]
  },
  {
   "cell_type": "markdown",
   "id": "58f9e7fc",
   "metadata": {},
   "source": [
    "Логистическая регрессия использует комбинацию сигмоид-функции и линейной регрессис:\n",
    "$$h_\\theta(x) = \\frac{1}{1 + e^{-z_\\theta(x)}} = \\frac{1}{1 + e^{-\\theta^Tx}}$$"
   ]
  },
  {
   "cell_type": "code",
   "execution_count": 12,
   "id": "d2b4ce55",
   "metadata": {},
   "outputs": [],
   "source": [
    "def hypothesis(theta, x):\n",
    "    return sigmoid(z(theta, x))"
   ]
  },
  {
   "cell_type": "code",
   "execution_count": 13,
   "id": "a18f8902",
   "metadata": {},
   "outputs": [
    {
     "data": {
      "text/plain": [
       "array([0.93086158, 0.9836975 , 0.95689275, 0.97811873, 0.98015969])"
      ]
     },
     "execution_count": 13,
     "metadata": {},
     "output_type": "execute_result"
    }
   ],
   "source": [
    "hypothesis(init_theta, x)[:5]"
   ]
  },
  {
   "cell_type": "markdown",
   "id": "37adfef8",
   "metadata": {},
   "source": [
    "Логистическая регрессия дает нам верояность $н$ равной $1$ для данного $\\theta$.\n",
    "$$h_\\theta(x) = P(y = 1 \\,|\\, x ; \\theta) = 1 - P(y = 0 \\,|\\, x ; \\theta)$$"
   ]
  },
  {
   "cell_type": "markdown",
   "id": "e605f072",
   "metadata": {},
   "source": [
    "ЗАДАЧА: найти такое значение $\\theta$, чтобы гипотеза давала нам наиболее точное предсказание для набора данных $(x_i, y_i)$ \n",
    "$$ \\theta* = \\text{argmin}_{\\theta}\\sum{-y_i\\text{log}h_\\theta(x_i)-(1-y_i)\\text{log}(1-h_\\theta(x_i))} $$"
   ]
  },
  {
   "cell_type": "code",
   "execution_count": 14,
   "id": "d467e55c",
   "metadata": {},
   "outputs": [],
   "source": [
    "def loss_function(theta, x, y):\n",
    "    h = hypothesis(theta, x)\n",
    "    loss = -y * np.log(h) - (1 - y) * np.log(1 - h)\n",
    "    loss_mean = np.mean(loss)\n",
    "    return loss_mean"
   ]
  },
  {
   "cell_type": "code",
   "execution_count": 15,
   "id": "23058c66",
   "metadata": {},
   "outputs": [
    {
     "data": {
      "text/plain": [
       "2.110018347214136"
      ]
     },
     "execution_count": 15,
     "metadata": {},
     "output_type": "execute_result"
    }
   ],
   "source": [
    "loss_function(init_theta, x, y)"
   ]
  },
  {
   "cell_type": "code",
   "execution_count": 33,
   "id": "4f6af9f3",
   "metadata": {},
   "outputs": [],
   "source": [
    "def gradient_descent(init_theta, x, y, learning_rate, iterations, save_frequency):\n",
    "    loss_history = []\n",
    "    theta = init_theta\n",
    "    for i in range(iterations):\n",
    "        if i%save_frequency==0:\n",
    "            loss_history.append(loss_function(theta, x, y))\n",
    "        gradient = 1/len(x) * (hypothesis(theta, x) - y) @ x\n",
    "        theta = theta - learning_rate * gradient\n",
    "    return (loss_history, theta)"
   ]
  },
  {
   "cell_type": "code",
   "execution_count": 57,
   "id": "6fa570c4",
   "metadata": {},
   "outputs": [],
   "source": [
    "loss_history, theta = gradient_descent(init_theta, x, y, \n",
    "                                       learning_rate=0.001, iterations=10**5, save_frequency=10**2)"
   ]
  },
  {
   "cell_type": "code",
   "execution_count": 58,
   "id": "fa5879bc",
   "metadata": {},
   "outputs": [
    {
     "data": {
      "image/png": "[encoded data removed]",
      "text/plain": [
       "<Figure size 432x288 with 1 Axes>"
      ]
     },
     "metadata": {
      "needs_background": "light"
     },
     "output_type": "display_data"
    }
   ],
   "source": [
    "plt.plot(loss_history)\n",
    "plt.show()"
   ]
  },
  {
   "cell_type": "code",
   "execution_count": 59,
   "id": "979df041",
   "metadata": {},
   "outputs": [
    {
     "name": "stdout",
     "output_type": "stream",
     "text": [
      "Index(['Pclass', 'Sex', 'Age', 'Bias'], dtype='object')\n",
      "[-0.97183587  2.49598772 -0.02147739  1.35436963]\n"
     ]
    }
   ],
   "source": [
    "print(dataset.columns[1:])\n",
    "print(theta)"
   ]
  },
  {
   "cell_type": "code",
   "execution_count": 60,
   "id": "9db7d1e5",
   "metadata": {},
   "outputs": [
    {
     "data": {
      "text/plain": [
       "array([0.11571587, 0.88719264, 0.59301359, 0.89348205, 0.09006457])"
      ]
     },
     "execution_count": 60,
     "metadata": {},
     "output_type": "execute_result"
    }
   ],
   "source": [
    "hypothesis(x,theta)[:5]"
   ]
  },
  {
   "cell_type": "code",
   "execution_count": 61,
   "id": "e2de12a7",
   "metadata": {},
   "outputs": [
    {
     "data": {
      "text/plain": [
       "0.7913165266106442"
      ]
     },
     "execution_count": 61,
     "metadata": {},
     "output_type": "execute_result"
    }
   ],
   "source": [
    "y_predict = np.rint(hypothesis(x,theta))\n",
    "(y==y_predict).mean()"
   ]
  },
  {
   "cell_type": "code",
   "execution_count": 66,
   "id": "220d15bc",
   "metadata": {},
   "outputs": [
    {
     "data": {
      "text/plain": [
       "0.10928427399736478"
      ]
     },
     "execution_count": 66,
     "metadata": {},
     "output_type": "execute_result"
    }
   ],
   "source": [
    "passenger = {'Pclass': 3, 'Sex':0, 'Age': 25, 'Bias':1}\n",
    "x_test = np.array([passenger[k] for k in passenger])\n",
    "hypothesis(x_test, theta)"
   ]
  },
  {
   "cell_type": "code",
   "execution_count": 68,
   "id": "a51ec483",
   "metadata": {},
   "outputs": [
    {
     "data": {
      "image/png": "[encoded data removed]",
      "text/plain": [
       "<Figure size 432x288 with 1 Axes>"
      ]
     },
     "metadata": {
      "needs_background": "light"
     },
     "output_type": "display_data"
    }
   ],
   "source": [
    "# min_values = np.min(x, axis=0)\n",
    "# max_values = np.max(x, axis=0)\n",
    "\n",
    "# line = lambda x: x * -parameters[0]/parameters[1] + bias\n",
    "# dissect_line = np.linspace(start=min_values[0], stop=max_values[0],num=10**4)\n",
    "\n",
    "plt.plot(x[y==0][:,0], x[y==0][:,2], 'o')\n",
    "plt.plot(x[y==1][:,0], x[y==1][:,2], 'x')\n",
    "plt.axis('equal')\n",
    "\n",
    "# plt.plot(dissect_line, line(dissect_line))\n",
    "plt.show()"
   ]
  },
  {
   "cell_type": "code",
   "execution_count": null,
   "id": "70bceb73",
   "metadata": {},
   "outputs": [],
   "source": []
  }
 ],
 "metadata": {
  "kernelspec": {
   "display_name": "Python 3 (ipykernel)",
   "language": "python",
   "name": "python3"
  },
  "language_info": {
   "codemirror_mode": {
    "name": "ipython",
    "version": 3
   },
   "file_extension": ".py",
   "mimetype": "text/x-python",
   "name": "python",
   "nbconvert_exporter": "python",
   "pygments_lexer": "ipython3",
   "version": "3.9.7"
  }
 },
 "nbformat": 4,
 "nbformat_minor": 5
}
