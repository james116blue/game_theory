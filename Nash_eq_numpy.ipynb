{
 "cells": [
  {
   "cell_type": "markdown",
   "metadata": {},
   "source": [
    "ПЕРВЫЙ ПРИМЕР"
   ]
  },
  {
   "cell_type": "code",
   "execution_count": 2,
   "metadata": {},
   "outputs": [
    {
     "name": "stdout",
     "output_type": "stream",
     "text": [
      "решение игры в доминирующих стратегиях\n"
     ]
    }
   ],
   "source": [
    "print('решение игры в доминирующих стратегиях')"
   ]
  },
  {
   "cell_type": "code",
   "execution_count": 3,
   "metadata": {},
   "outputs": [],
   "source": [
    "import numpy as np"
   ]
  },
  {
   "cell_type": "code",
   "execution_count": 5,
   "metadata": {},
   "outputs": [],
   "source": [
    "size = 10**4\n",
    "a = np.random.normal(size=(size, size))\n",
    "b = np.random.normal(size=(size, size))"
   ]
  },
  {
   "cell_type": "code",
   "execution_count": 8,
   "metadata": {},
   "outputs": [
    {
     "name": "stdout",
     "output_type": "stream",
     "text": [
      "CPU times: user 2min 4s, sys: 1.38 s, total: 2min 5s\n",
      "Wall time: 16.6 s\n"
     ]
    },
    {
     "data": {
      "text/plain": [
       "array([[-0.11093954,  0.0763212 , -0.03677498, ..., -0.00673454,\n",
       "         0.01649824,  0.02510601],\n",
       "       [-0.00955657,  0.02066519, -0.00115256, ...,  0.00040442,\n",
       "        -0.00081485,  0.00462756],\n",
       "       [ 0.03860697, -0.00731323,  0.00905598, ...,  0.00746635,\n",
       "        -0.02413508, -0.02115099],\n",
       "       ...,\n",
       "       [-0.02587041,  0.01323787, -0.01057828, ...,  0.00276189,\n",
       "        -0.00136823,  0.00086748],\n",
       "       [ 0.01018004, -0.0031304 , -0.00346739, ...,  0.01198456,\n",
       "        -0.00643815,  0.00273251],\n",
       "       [-0.05817066,  0.02747684, -0.01422911, ..., -0.00457817,\n",
       "         0.0139673 ,  0.01333884]])"
      ]
     },
     "execution_count": 8,
     "metadata": {},
     "output_type": "execute_result"
    }
   ],
   "source": [
    "%%time\n",
    "np.linalg.inv(a)"
   ]
  },
  {
   "cell_type": "code",
   "execution_count": 12,
   "metadata": {},
   "outputs": [
    {
     "data": {
      "text/plain": [
       "array([[ 0.,  1.],\n",
       "       [-1.,  0.]], dtype=float32)"
      ]
     },
     "execution_count": 12,
     "metadata": {},
     "output_type": "execute_result"
    }
   ],
   "source": [
    "game1 = np.array([[0, 1],\n",
    "                  [-1, 0]],\n",
    "                dtype=np.float32)\n",
    "game1"
   ]
  },
  {
   "cell_type": "code",
   "execution_count": 22,
   "metadata": {},
   "outputs": [
    {
     "data": {
      "text/plain": [
       "array([0, 0])"
      ]
     },
     "execution_count": 22,
     "metadata": {},
     "output_type": "execute_result"
    }
   ],
   "source": [
    "strategies = np.argmax(game1, axis=0)\n",
    "strategies"
   ]
  },
  {
   "cell_type": "code",
   "execution_count": 20,
   "metadata": {},
   "outputs": [
    {
     "data": {
      "text/plain": [
       "True"
      ]
     },
     "execution_count": 20,
     "metadata": {},
     "output_type": "execute_result"
    }
   ],
   "source": [
    "result = np.all(strategies == strategies[0])\n",
    "result"
   ]
  },
  {
   "cell_type": "code",
   "execution_count": 21,
   "metadata": {},
   "outputs": [
    {
     "data": {
      "text/plain": [
       "0"
      ]
     },
     "execution_count": 21,
     "metadata": {},
     "output_type": "execute_result"
    }
   ],
   "source": [
    "strategies[0]"
   ]
  },
  {
   "cell_type": "code",
   "execution_count": 23,
   "metadata": {},
   "outputs": [
    {
     "data": {
      "text/plain": [
       "(array([[-4, -1],\n",
       "        [-7, -2]]),\n",
       " array([[-4, -7],\n",
       "        [-1, -2]]))"
      ]
     },
     "execution_count": 23,
     "metadata": {},
     "output_type": "execute_result"
    }
   ],
   "source": [
    "a = np.array([[-4, -1],[-7, -2]])\n",
    "b = np.array([[-4, -7],[-1, -2]])\n",
    "\n",
    "a,b"
   ]
  },
  {
   "cell_type": "code",
   "execution_count": 24,
   "metadata": {},
   "outputs": [
    {
     "data": {
      "text/plain": [
       "array([0, 0])"
      ]
     },
     "execution_count": 24,
     "metadata": {},
     "output_type": "execute_result"
    }
   ],
   "source": [
    "strategies1 = np.argmax(a, axis=0)\n",
    "strategies1"
   ]
  },
  {
   "cell_type": "code",
   "execution_count": 25,
   "metadata": {},
   "outputs": [
    {
     "data": {
      "text/plain": [
       "array([0, 0])"
      ]
     },
     "execution_count": 25,
     "metadata": {},
     "output_type": "execute_result"
    }
   ],
   "source": [
    "strategies2 = np.argmax(b, axis=1)\n",
    "strategies2"
   ]
  },
  {
   "cell_type": "code",
   "execution_count": 26,
   "metadata": {},
   "outputs": [
    {
     "data": {
      "text/plain": [
       "(array([[-4, -1],\n",
       "        [-7, -2]]),\n",
       " array([[-4, -7],\n",
       "        [-1, -2]]))"
      ]
     },
     "execution_count": 26,
     "metadata": {},
     "output_type": "execute_result"
    }
   ],
   "source": [
    "a, b"
   ]
  },
  {
   "cell_type": "code",
   "execution_count": 27,
   "metadata": {},
   "outputs": [
    {
     "data": {
      "text/plain": [
       "(array([[2, 0],\n",
       "        [0, 1]]),\n",
       " array([[1, 0],\n",
       "        [0, 2]]))"
      ]
     },
     "execution_count": 27,
     "metadata": {},
     "output_type": "execute_result"
    }
   ],
   "source": [
    "a = np.array([[2, 0],[0, 1]])\n",
    "b = np.array([[1, 0],[0, 2]])\n",
    "\n",
    "a,b"
   ]
  },
  {
   "cell_type": "code",
   "execution_count": 28,
   "metadata": {},
   "outputs": [
    {
     "data": {
      "text/plain": [
       "(array([0, 1]), array([0, 1]))"
      ]
     },
     "execution_count": 28,
     "metadata": {},
     "output_type": "execute_result"
    }
   ],
   "source": [
    "strategies1 = np.argmax(a, axis=0)\n",
    "strategies2 = np.argmax(a, axis=1)\n",
    "strategies1, strategies2"
   ]
  },
  {
   "cell_type": "code",
   "execution_count": 41,
   "metadata": {},
   "outputs": [
    {
     "data": {
      "text/plain": [
       "{(0, 0), (1, 1)}"
      ]
     },
     "execution_count": 41,
     "metadata": {},
     "output_type": "execute_result"
    }
   ],
   "source": [
    "optimal_solutions1 = {(number,strategy) \n",
    "                      for number, strategy \n",
    "                      in enumerate(strategies1)}\n",
    "optimal_solutions1"
   ]
  },
  {
   "cell_type": "code",
   "execution_count": 42,
   "metadata": {},
   "outputs": [
    {
     "data": {
      "text/plain": [
       "{(0, 0), (1, 1)}"
      ]
     },
     "execution_count": 42,
     "metadata": {},
     "output_type": "execute_result"
    }
   ],
   "source": [
    "optimal_solutions2 = {(number,strategy) \n",
    "                      for number, strategy \n",
    "                      in enumerate(strategies2)}\n",
    "optimal_solutions1"
   ]
  },
  {
   "cell_type": "code",
   "execution_count": 43,
   "metadata": {},
   "outputs": [
    {
     "data": {
      "text/plain": [
       "{(0, 0), (1, 1)}"
      ]
     },
     "execution_count": 43,
     "metadata": {},
     "output_type": "execute_result"
    }
   ],
   "source": [
    "optimal_solutions1.intersection(optimal_solutions2)"
   ]
  },
  {
   "cell_type": "code",
   "execution_count": 45,
   "metadata": {},
   "outputs": [
    {
     "name": "stdout",
     "output_type": "stream",
     "text": [
      "Collecting nashpy\n",
      "  Downloading nashpy-0.0.20.tar.gz (10 kB)\n",
      "Requirement already satisfied: numpy>=1.12.1 in /home/student/anaconda3/lib/python3.8/site-packages (from nashpy) (1.19.2)\n",
      "Requirement already satisfied: scipy>=0.19.0 in /home/student/anaconda3/lib/python3.8/site-packages (from nashpy) (1.5.2)\n",
      "Building wheels for collected packages: nashpy\n",
      "  Building wheel for nashpy (setup.py) ... \u001b[?25ldone\n",
      "\u001b[?25h  Created wheel for nashpy: filename=nashpy-0.0.20-py3-none-any.whl size=14401 sha256=c41920ee9c616057a9207e8bedc885f942031bc65bd38350b3acf0351e767bfc\n",
      "  Stored in directory: /home/student/.cache/pip/wheels/68/6f/9a/f02e17185b959b10137b54fd19081b1c83bcfc6b6e9ee1e950\n",
      "Successfully built nashpy\n",
      "Installing collected packages: nashpy\n",
      "Successfully installed nashpy-0.0.20\n"
     ]
    }
   ],
   "source": [
    "!pip install nashpy"
   ]
  },
  {
   "cell_type": "code",
   "execution_count": 46,
   "metadata": {},
   "outputs": [],
   "source": [
    "import nashpy as nash"
   ]
  },
  {
   "cell_type": "code",
   "execution_count": 47,
   "metadata": {},
   "outputs": [
    {
     "data": {
      "text/plain": [
       "(array([[-4, -1],\n",
       "        [-7, -2]]),\n",
       " array([[-4, -7],\n",
       "        [-1, -2]]))"
      ]
     },
     "execution_count": 47,
     "metadata": {},
     "output_type": "execute_result"
    }
   ],
   "source": [
    "a = np.array([[-4, -1],[-7, -2]])\n",
    "b = np.array([[-4, -7],[-1, -2]])\n",
    "\n",
    "a,b"
   ]
  },
  {
   "cell_type": "code",
   "execution_count": 53,
   "metadata": {},
   "outputs": [
    {
     "data": {
      "text/plain": [
       "(array([[-1,  1],\n",
       "        [ 1, -1]]),\n",
       " array([[ 1, -1],\n",
       "        [-1,  1]]))"
      ]
     },
     "execution_count": 53,
     "metadata": {},
     "output_type": "execute_result"
    }
   ],
   "source": [
    "a = np.array([[-1, 1],[1, -1]])\n",
    "b = np.array([[1, -1],[-1, 1]])\n",
    "\n",
    "a,b"
   ]
  },
  {
   "cell_type": "code",
   "execution_count": 54,
   "metadata": {},
   "outputs": [
    {
     "data": {
      "text/plain": [
       "Zero sum game with payoff matrices:\n",
       "\n",
       "Row player:\n",
       "[[-1  1]\n",
       " [ 1 -1]]\n",
       "\n",
       "Column player:\n",
       "[[ 1 -1]\n",
       " [-1  1]]"
      ]
     },
     "execution_count": 54,
     "metadata": {},
     "output_type": "execute_result"
    }
   ],
   "source": [
    "rps = nash.Game(a,b)\n",
    "rps"
   ]
  },
  {
   "cell_type": "code",
   "execution_count": 55,
   "metadata": {},
   "outputs": [],
   "source": [
    " eqs = rps.support_enumeration()"
   ]
  },
  {
   "cell_type": "code",
   "execution_count": 56,
   "metadata": {},
   "outputs": [
    {
     "data": {
      "text/plain": [
       "[(array([0.5, 0.5]), array([0.5, 0.5]))]"
      ]
     },
     "execution_count": 56,
     "metadata": {},
     "output_type": "execute_result"
    }
   ],
   "source": [
    "list(eqs)"
   ]
  }
 ],
 "metadata": {
  "kernelspec": {
   "display_name": "Python 3",
   "language": "python",
   "name": "python3"
  },
  "language_info": {
   "codemirror_mode": {
    "name": "ipython",
    "version": 3
   },
   "file_extension": ".py",
   "mimetype": "text/x-python",
   "name": "python",
   "nbconvert_exporter": "python",
   "pygments_lexer": "ipython3",
   "version": "3.8.5"
  }
 },
 "nbformat": 4,
 "nbformat_minor": 4
}
